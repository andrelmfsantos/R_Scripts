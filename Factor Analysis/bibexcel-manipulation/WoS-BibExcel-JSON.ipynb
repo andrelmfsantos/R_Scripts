{
 "cells": [
  {
   "cell_type": "markdown",
   "metadata": {},
   "source": [
    "# Exporting to JSON"
   ]
  },
  {
   "cell_type": "code",
   "execution_count": 122,
   "metadata": {},
   "outputs": [],
   "source": [
    "import json"
   ]
  },
  {
   "cell_type": "code",
   "execution_count": 123,
   "metadata": {},
   "outputs": [],
   "source": [
    "# These procedures are from a txt exported from BibExcel\n",
    "file = 'WoS.doc'\n",
    "with open(file, 'r', encoding = 'utf8') as f:\n",
    "    data = f.read()\n",
    "    f.close()"
   ]
  },
  {
   "cell_type": "code",
   "execution_count": 124,
   "metadata": {},
   "outputs": [
    {
     "data": {
      "text/plain": [
       "' ER  EF||\\n\\n'"
      ]
     },
     "execution_count": 124,
     "metadata": {},
     "output_type": "execute_result"
    }
   ],
   "source": [
    "# Split the file removing the last 2 digits\n",
    "data[-11:]"
   ]
  },
  {
   "cell_type": "code",
   "execution_count": 125,
   "metadata": {},
   "outputs": [
    {
     "data": {
      "text/plain": [
       "395"
      ]
     },
     "execution_count": 125,
     "metadata": {},
     "output_type": "execute_result"
    }
   ],
   "source": [
    "# How many files?\n",
    "#regex = re.compile(\"(ER\\s\\|\\|)|(ER\\s\\s\\E\\F\\|\\|)\")\n",
    "len(data[:-11].split('ER ||'))"
   ]
  },
  {
   "cell_type": "code",
   "execution_count": 126,
   "metadata": {},
   "outputs": [],
   "source": [
    "result = []\n",
    "for record in data[:-11].split('ER ||'): # remove the final '\\n' from the text\n",
    "    bib_dict = {}\n",
    "    for line in record.split('|\\n'):\n",
    "        k, v = line.split(\"- \", 1)\n",
    "        bib_dict[k.strip()] = v.strip()\n",
    "    result.append(bib_dict)\n",
    "    bib_dict = {}"
   ]
  },
  {
   "cell_type": "code",
   "execution_count": 127,
   "metadata": {},
   "outputs": [],
   "source": [
    "with open('WoS-BibExcel.json', 'w') as outfile:\n",
    "    json.dump(result, outfile, indent = 4)\n",
    "    outfile.close()"
   ]
  },
  {
   "cell_type": "markdown",
   "metadata": {},
   "source": [
    "# Importing from JSON"
   ]
  },
  {
   "cell_type": "code",
   "execution_count": 128,
   "metadata": {},
   "outputs": [],
   "source": [
    "file = 'WoS-BibExcel.json'\n",
    "with open(file, 'r', encoding = 'utf8') as f:\n",
    "    json_data = f.read()\n",
    "    f.close()\n",
    "json_data = json.loads(json_data)"
   ]
  },
  {
   "cell_type": "code",
   "execution_count": 129,
   "metadata": {},
   "outputs": [],
   "source": [
    "string = ''\n",
    "for record in json_data:\n",
    "    line = \"|\\n\".join(\"{!s}- {!s}\".format(key,val) for (key,val) in record.items())\n",
    "    string += line\n",
    "    string += ' ER ||\\n\\n'   \n",
    "string = string[:-5]\n",
    "string += '  EF||\\n\\n'"
   ]
  },
  {
   "cell_type": "code",
   "execution_count": 133,
   "metadata": {},
   "outputs": [],
   "source": [
    "with open('JSON-exported-WoS.txt', 'w', encoding='utf8') as f:\n",
    "    f.write(string)"
   ]
  }
 ],
 "metadata": {
  "kernelspec": {
   "display_name": "Python 3",
   "language": "python",
   "name": "python3"
  },
  "language_info": {
   "codemirror_mode": {
    "name": "ipython",
    "version": 3
   },
   "file_extension": ".py",
   "mimetype": "text/x-python",
   "name": "python",
   "nbconvert_exporter": "python",
   "pygments_lexer": "ipython3",
   "version": "3.7.3"
  }
 },
 "nbformat": 4,
 "nbformat_minor": 4
}
