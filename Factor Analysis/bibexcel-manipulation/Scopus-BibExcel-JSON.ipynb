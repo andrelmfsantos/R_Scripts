{
 "cells": [
  {
   "cell_type": "markdown",
   "metadata": {},
   "source": [
    "# Exporting to JSON"
   ]
  },
  {
   "cell_type": "code",
   "execution_count": 8,
   "metadata": {},
   "outputs": [],
   "source": [
    "import json"
   ]
  },
  {
   "cell_type": "code",
   "execution_count": 9,
   "metadata": {},
   "outputs": [],
   "source": [
    "# These procedures are from a txt exported from BibExcel\n",
    "file = 'scopus.txt'\n",
    "with open(file, 'r', encoding='utf8') as f:\n",
    "    data = f.read()\n",
    "    f.close()"
   ]
  },
  {
   "cell_type": "code",
   "execution_count": 10,
   "metadata": {},
   "outputs": [
    {
     "data": {
      "text/plain": [
       "'|\\n'"
      ]
     },
     "execution_count": 10,
     "metadata": {},
     "output_type": "execute_result"
    }
   ],
   "source": [
    "# Split the file removing the last 2 digits\n",
    "data[-2:]"
   ]
  },
  {
   "cell_type": "code",
   "execution_count": 11,
   "metadata": {},
   "outputs": [
    {
     "data": {
      "text/plain": [
       "374"
      ]
     },
     "execution_count": 11,
     "metadata": {},
     "output_type": "execute_result"
    }
   ],
   "source": [
    "# How many files?\n",
    "len(data[:-2].split(\"||\"))"
   ]
  },
  {
   "cell_type": "code",
   "execution_count": 12,
   "metadata": {},
   "outputs": [],
   "source": [
    "result = []\n",
    "for record in data[:-2].split(\"||\"): # remove the final '\\n' from the text\n",
    "    bib_dict = {}\n",
    "    for line in record.split('|\\n'):\n",
    "        k, v = line.split(\"- \", 1)\n",
    "        bib_dict[k.strip()] = v.strip()\n",
    "    result.append(bib_dict)\n",
    "    bib_dict = {}"
   ]
  },
  {
   "cell_type": "code",
   "execution_count": 13,
   "metadata": {},
   "outputs": [],
   "source": [
    "with open('scopus-BibExcel.json', 'w') as outfile:\n",
    "    json.dump(result, outfile, indent = 4)\n",
    "    outfile.close()"
   ]
  },
  {
   "cell_type": "markdown",
   "metadata": {},
   "source": [
    "# Importing from JSON"
   ]
  },
  {
   "cell_type": "code",
   "execution_count": 14,
   "metadata": {},
   "outputs": [],
   "source": [
    "file = 'scopus-BibExcel.json'\n",
    "with open(file, 'r', encoding = 'utf8') as f:\n",
    "    json_data = f.read()\n",
    "    f.close()\n",
    "json_data = json.loads(json_data)"
   ]
  },
  {
   "cell_type": "code",
   "execution_count": 83,
   "metadata": {},
   "outputs": [],
   "source": [
    "string = ''\n",
    "for record in json_data:\n",
    "    line = \"|\\n\".join(\"{!s}- {!s}\".format(key,val) for (key,val) in record.items())\n",
    "    string += line\n",
    "    string += '||'   \n",
    "string = string[:-1]\n",
    "string += '\\n'"
   ]
  },
  {
   "cell_type": "code",
   "execution_count": 86,
   "metadata": {},
   "outputs": [],
   "source": [
    "with open('JSON-exported-scopus.txt', 'w', encoding='utf8') as f:\n",
    "    f.write(string)"
   ]
  }
 ],
 "metadata": {
  "kernelspec": {
   "display_name": "Python 3",
   "language": "python",
   "name": "python3"
  },
  "language_info": {
   "codemirror_mode": {
    "name": "ipython",
    "version": 3
   },
   "file_extension": ".py",
   "mimetype": "text/x-python",
   "name": "python",
   "nbconvert_exporter": "python",
   "pygments_lexer": "ipython3",
   "version": "3.7.3"
  }
 },
 "nbformat": 4,
 "nbformat_minor": 4
}
